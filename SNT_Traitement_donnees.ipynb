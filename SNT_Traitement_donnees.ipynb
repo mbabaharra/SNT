{
 "cells": [
  {
   "cell_type": "markdown",
   "metadata": {},
   "source": [
    "# Traitement des données avec python.\n",
    "Après avoir vu différents types de données, nous allons maintenant, à l'aide du langage de programmation Python, apprendre à effectuer des traitements sur ces données.\n",
    "Pour cela nous allons utiliser << Jupyter notebook >>\n",
    "A la fin de la séance. Vous devez techarger votre travail sous format html : \n",
    "Fichier -> Télécharger au Format -> HTML (.html)"
   ]
  },
  {
   "cell_type": "markdown",
   "metadata": {},
   "source": [
    "Les notebooks Jupyter sont des cahiers électroniques qui, dans le même document, peuvent rassembler du texte, des images, des formules mathématiques et du code informatique exécutable. Ils sont manipulables interactivement dans un navigateur web.\n",
    "- Les cellules contenant des instructions python sont marquées par << Entrée [ un numéro ] >>.</BR>\n",
    "- On peut ajouter une cellule en cliquanr sur << + >> ou utiliser le menu. \n",
    "- Pour supprimer une cellule on utilise les ciseaux ou le menu\n",
    "- Pour exécuter une instruction, on peut :\n",
    "\n",
    "- Cliquer sur le menu Cell, puis Run Cells ou\n",
    "-  Cliquer sur le bouton Run (sous la barre de menu) ou\n",
    "- Presser simultanément les touches Ctrl + Entrée.\n",
    "- Les cellules des résultats sont reconnaissables par <<< Out [un numéro] >>>\n",
    "\n",
    "À faire vous-même 1.\n",
    "1. Ajouter une cellule de type code.\n",
    "2. Ecrrire les instructions suivantes. Puis Exécuter les !\n",
    "```\n",
    "a=12\n",
    "b=21\n",
    "print(a+b)\n",
    "```"
   ]
  },
  {
   "cell_type": "markdown",
   "metadata": {},
   "source": [
    "Pour traiter des données, nous allons utiliser la bibliothèque Python Pandas. Une bibliothèque Python permet de rajouter des fonctionnalités par rapport au langage de base. \n",
    "La bibliothèque Pandas est donc très utilisée pour tout ce qui touche au traitement des données.\n",
    "Nous allons installer cette bibliothèque:\n",
    "- Ajouter une cellule code et taper l'instruction suivante :\n",
    "```\n",
    "pip install pandas\n",
    "```"
   ]
  },
  {
   "cell_type": "markdown",
   "metadata": {},
   "source": [
    "Pour nos premiers pas avec Pandas, nous allons utiliser des données très simples au format CSV : ces données sont contenues dans le fichier ident_virgule.csv dont lr contenu est : \n",
    "```\n",
    "nom,prenom,date_naissance\n",
    "Durand,Jean-Pierre,23/05/1985\n",
    "Dupont,Christophe,15/12/1967\n",
    "Terta,Henry,12/06/1978\n",
    "```\n",
    "Dans la cellule ci-dessous, saisissez le code Python suivant : \n",
    "```\n",
    "import pandas\n",
    "iden=pandas.read_csv(\"ident_virgule.csv\")\n",
    "```"
   ]
  },
  {
   "cell_type": "code",
   "execution_count": 5,
   "metadata": {},
   "outputs": [],
   "source": []
  },
  {
   "cell_type": "markdown",
   "metadata": {},
   "source": [
    "### Question 1. \n",
    "Quelle différence remarquez vous entre la sortie de votre commande et le fichier source ?\n",
    "### Réponse.\n"
   ]
  },
  {
   "cell_type": "markdown",
   "metadata": {},
   "source": [
    "### question 2.\n",
    "Tester le programme suivant \n",
    "```\n",
    "import pandas\n",
    "iden=pandas.read_csv(\"ident_virgule.csv\")\n",
    "info=iden.loc[1,'prenom']\n",
    "```\t\t"
   ]
  },
  {
   "cell_type": "code",
   "execution_count": null,
   "metadata": {},
   "outputs": [],
   "source": []
  },
  {
   "cell_type": "markdown",
   "metadata": {},
   "source": [
    "### Questions \n",
    "1. Que contient la variable info ?\n",
    "2. Afficher la date de naissance de Henry. \n",
    "### Réponse :\n",
    "1. \n",
    "2. \n",
    "\n"
   ]
  },
  {
   "cell_type": "code",
   "execution_count": null,
   "metadata": {},
   "outputs": [],
   "source": []
  },
  {
   "cell_type": "markdown",
   "metadata": {},
   "source": [
    "### Question\n",
    "Tester le programme suivant :\n",
    "```\n",
    "import pandas\n",
    "iden=pandas.read_csv(\"ident_virgule.csv\")\n",
    "info=iden.loc[2,:]\n",
    "```"
   ]
  },
  {
   "cell_type": "code",
   "execution_count": null,
   "metadata": {},
   "outputs": [],
   "source": []
  },
  {
   "cell_type": "markdown",
   "metadata": {},
   "source": [
    "### Questions \n",
    "Que contient la variable info ?\n",
    "### Réponse :\n",
    " \n",
    "\n"
   ]
  },
  {
   "cell_type": "markdown",
   "metadata": {},
   "source": [
    "## Remarque : \n",
    "On peut récupérer seulement certaines lignes et certaines colonnes en utilisant la notation suivante : loc[[index_ligne_1,index_ligne_2,...],[index_colonne_1,index_colonne_2,...]] . \n",
    "- Testez le programme suivant : \n",
    "```\n",
    "import pandas\n",
    "iden=pandas.read_csv(\"ident_virgule.csv\")\n",
    "info=iden.loc[[1,2],['prenom','date_naissance']]\n",
    "```"
   ]
  },
  {
   "cell_type": "code",
   "execution_count": null,
   "metadata": {},
   "outputs": [],
   "source": []
  },
  {
   "cell_type": "markdown",
   "metadata": {},
   "source": [
    "# Traitement numörique des données\n",
    "Dans la suite on va utiliser le fichier de donnöes csv :   ville_virgule.csv ( https://pixees.fr/informatiquelycee/n_site/asset/villes_virgule.csv) Que vous pouvez ouvrir ä l'aide de Calc de libre office.\n",
    "\n",
    "À faire vous-même 10\n",
    "\n",
    "Testez le programme suivant : \n",
    "```\n",
    "import pandas\n",
    "info_villes=pandas.read_csv(\"villes_virgule.csv\")\n",
    "```\n",
    "### Question\n",
    "1. Que contient la variable info_villes ?\n",
    "2. Obtient-t-on toutes les lignes ?\n",
    "### Réponse.\n",
    "1. \n",
    "2. \n"
   ]
  },
  {
   "cell_type": "markdown",
   "metadata": {},
   "source": [
    "Nous allons maintenant introduire des conditions dans la sélection des villes. Imaginez par exemple que vous désirez obtenir un tableau contenant toutes les villes qui ont une altitude minimum supérieure à 1500 m : \n",
    "### Question \n",
    "Analysez et testez le programme suivant : \n",
    "```\n",
    "import pandas\n",
    "info_villes=pandas.read_csv(\"villes_virgule.csv\")\n",
    "nom_alt=info_villes.loc[info_villes[\"alt_min\"]>1500,[\"nom\",\"alt_min\"]]\n",
    "```\n",
    "### Réponse"
   ]
  },
  {
   "cell_type": "code",
   "execution_count": null,
   "metadata": {},
   "outputs": [],
   "source": []
  },
  {
   "cell_type": "markdown",
   "metadata": {},
   "source": [
    "### Question \n",
    "En vous inspirant du programme testé dans la question précédente. écrivez un programme qui permettra d'avoir les villes qui ont une densité d'habitant inférieure à 50 (dans le tableau ainsi créé, on aura 3 colonnes : le nom de la ville, la densité de la population et l'altitude minimum).\n"
   ]
  },
  {
   "cell_type": "code",
   "execution_count": null,
   "metadata": {},
   "outputs": [],
   "source": []
  },
  {
   "cell_type": "markdown",
   "metadata": {},
   "source": [
    " ### Question \n",
    "\n",
    "Analysez et testez le programme suivant :\n",
    "\n",
    "```\n",
    "import pandas\n",
    "info_villes=pandas.read_csv(\"villes_virgule.csv\")\n",
    "nom_alt=info_villes.loc[(info_villes[\"alt_min\"]>1500) & (info_villes[\"dens\"]>50),[\"nom\",\"dens\",\"alt_min\"]]\n",
    "```\n",
    "- Qu'obtient-on ?"
   ]
  },
  {
   "cell_type": "code",
   "execution_count": null,
   "metadata": {},
   "outputs": [],
   "source": []
  },
  {
   "cell_type": "markdown",
   "metadata": {},
   "source": [
    " Il est aussi possible d'effectuer des calculs sur des colonnes, par exemple le calcul des moyennes. \n",
    " Il suffit d'utiliser l'instruction \"mean\" pour effectuer une moyenne :\n",
    "### Question\n",
    "Analysez et testez le programme suivant :\n",
    "```\n",
    "import pandas\n",
    "info_villes=pandas.read_csv(\"villes_virgule.csv\")\n",
    "moyenne_alt_min=info_villes.loc[:,\"alt_min\"].mean()\n",
    "```\n"
   ]
  },
  {
   "cell_type": "code",
   "execution_count": null,
   "metadata": {},
   "outputs": [],
   "source": []
  },
  {
   "cell_type": "markdown",
   "metadata": {},
   "source": [
    "### Remarque. \n",
    "Vous devriez constater que l'altitude minimum moyenne est de 193 m en France. \n",
    "Je rappelle que dans \"loc[:,\"alt_min\"]\" le \":\" signifie que l'on considère toutes les lignes du tableau. \n",
    "De plus le \"alt_min\" que le calcul de la moyenne porte bien sur les données du descripteur \"alt_min\". \n",
    "\t\t"
   ]
  },
  {
   "cell_type": "markdown",
   "metadata": {},
   "source": [
    "### Question\n",
    "Écrivez un programme permettant de calculer le nombre moyen d'habitants en 2012 "
   ]
  },
  {
   "cell_type": "markdown",
   "metadata": {},
   "source": [
    "### Question \n",
    "\n",
    "Analysez et testez le programme suivant :\n",
    "```\n",
    "import pandas\n",
    "info_villes=pandas.read_csv(\"villes_virgule.csv\")\n",
    "nbe_hab=info_villes.loc[info_villes[\"alt_min\"]>1500,\"nb_hab_2012\"].mean()\n",
    "```\n",
    "\t\t"
   ]
  },
  {
   "cell_type": "code",
   "execution_count": null,
   "metadata": {},
   "outputs": [],
   "source": []
  },
  {
   "cell_type": "markdown",
   "metadata": {},
   "source": [
    "## Trier  un tableau\n",
    "Il est aussi possible de trier le tableau en fonction des valeurs d'un descripteur. Il suffit d'utiliser l'instruction \"sort_values\" \n",
    " Analysez et testez le programme suivant :\n",
    "### Question\n",
    "```\n",
    "import pandas\n",
    "info_villes=pandas.read_csv(\"villes_virgule.csv\")\n",
    "tri_alt_min=info_villes.sort_values(by=[\"alt_min\"])\n",
    "```\t\t"
   ]
  },
  {
   "cell_type": "code",
   "execution_count": null,
   "metadata": {},
   "outputs": [],
   "source": []
  },
  {
   "cell_type": "markdown",
   "metadata": {},
   "source": [
    "Il est aussi possible de trier par ordre décroissant en ajoutant \"ascending=False\" :\n",
    "À faire vous-même 18\n",
    "\n",
    "### Question \n",
    "Analysez et testez le programme suivant :\n",
    "```\n",
    "import pandas\n",
    "info_villes=pandas.read_csv(\"villes_virgule.csv\")\n",
    "tri_alt_min=info_villes.sort_values(by=[\"alt_min\"], ascending=False)\n",
    "```\n",
    "\n",
    "Quelle est la ville ayant l'altitude minimum la plus importante de France ? "
   ]
  },
  {
   "cell_type": "code",
   "execution_count": null,
   "metadata": {},
   "outputs": [],
   "source": []
  },
  {
   "cell_type": "markdown",
   "metadata": {},
   "source": [
    "### Question \n",
    "Écrivez un programme permettant de répondre à la question suivante : \n",
    "- quelle est la ville ayant la densité de population la plus forte ? "
   ]
  },
  {
   "cell_type": "code",
   "execution_count": null,
   "metadata": {},
   "outputs": [],
   "source": []
  },
  {
   "cell_type": "markdown",
   "metadata": {},
   "source": [
    "# Pour allez plus loin (Graphiques)\n",
    "On peut afficher des representations graphiques. \n",
    "Pour cela on saisit dans une cellule les instructions :\n",
    "```\n",
    "#installation de matplotlib\n",
    "pip install matplotlib\n",
    "```\n",
    "On indique  que l'on veut voir apparaître les graphiques dans le notebook, sinon on ne verrait rien\n",
    "```\n",
    "%matplotlib inline\n",
    "```\n",
    "Puis on importe la bibliothèque graphique \n",
    "```\n",
    "import matplotlib.pyplot as plt\n",
    "```\n",
    "Pour affichier l'histogramme des altitudes minimales : \n",
    "```\n",
    "info_villes.hist(column='alt_min')\n",
    "```"
   ]
  },
  {
   "cell_type": "code",
   "execution_count": 28,
   "metadata": {},
   "outputs": [],
   "source": []
  },
  {
   "cell_type": "markdown",
   "metadata": {},
   "source": [
    "Pour afficher la corbe des altitudes minimales, on peut essayer le code suivant: \n",
    "```\n",
    "info_villes['alt_min'].plot.kde()\n",
    "\n",
    "```"
   ]
  },
  {
   "cell_type": "code",
   "execution_count": null,
   "metadata": {},
   "outputs": [],
   "source": []
  }
 ],
 "metadata": {
  "kernelspec": {
   "display_name": "Python 3",
   "language": "python",
   "name": "python3"
  },
  "language_info": {
   "codemirror_mode": {
    "name": "ipython",
    "version": 3
   },
   "file_extension": ".py",
   "mimetype": "text/x-python",
   "name": "python",
   "nbconvert_exporter": "python",
   "pygments_lexer": "ipython3",
   "version": "3.7.4"
  }
 },
 "nbformat": 4,
 "nbformat_minor": 2
}
